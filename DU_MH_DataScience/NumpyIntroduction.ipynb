{
 "cells": [
  {
   "cell_type": "code",
   "execution_count": 1,
   "id": "bd53cb0e",
   "metadata": {},
   "outputs": [],
   "source": [
    "# Numpy - Numerical Python\n",
    "# Mathematical Computation Library\n",
    "# Mostly used for Array - 1D, 2D, 3D... ND\n",
    "# Base library for Pandas, OpenCV\n",
    "# Base Library for frameworks of deep learrning like Tensorflow, PyTorch"
   ]
  },
  {
   "cell_type": "code",
   "execution_count": 2,
   "id": "cb4b3e43",
   "metadata": {},
   "outputs": [],
   "source": [
    "import numpy as np"
   ]
  },
  {
   "cell_type": "markdown",
   "id": "3e2f910c",
   "metadata": {},
   "source": [
    "## Ways to create array"
   ]
  },
  {
   "cell_type": "code",
   "execution_count": 3,
   "id": "64179792",
   "metadata": {},
   "outputs": [],
   "source": [
    "# 1. Using np.array([])\n",
    "x = np.array([4,5,6,7,9,1,32,5,8,8,24])"
   ]
  },
  {
   "cell_type": "code",
   "execution_count": 4,
   "id": "183f119f",
   "metadata": {},
   "outputs": [
    {
     "data": {
      "text/plain": [
       "array([ 4,  5,  6,  7,  9,  1, 32,  5,  8,  8, 24])"
      ]
     },
     "execution_count": 4,
     "metadata": {},
     "output_type": "execute_result"
    }
   ],
   "source": [
    "x"
   ]
  },
  {
   "cell_type": "code",
   "execution_count": 5,
   "id": "82945d08",
   "metadata": {},
   "outputs": [
    {
     "data": {
      "text/plain": [
       "array([5. , 4. , 5. , 6. , 5.7])"
      ]
     },
     "execution_count": 5,
     "metadata": {},
     "output_type": "execute_result"
    }
   ],
   "source": [
    "np.array([5,4,5,6,5.7])"
   ]
  },
  {
   "cell_type": "code",
   "execution_count": 6,
   "id": "a82d6be8",
   "metadata": {},
   "outputs": [
    {
     "data": {
      "text/plain": [
       "array([5. , 4. , 5. , 6. , 5.7, 1. ])"
      ]
     },
     "execution_count": 6,
     "metadata": {},
     "output_type": "execute_result"
    }
   ],
   "source": [
    "np.array([5,4,5,6,5.7,True])"
   ]
  },
  {
   "cell_type": "code",
   "execution_count": 7,
   "id": "f37d72c3",
   "metadata": {},
   "outputs": [
    {
     "data": {
      "text/plain": [
       "array(['5', '4', '5', '6', '5.7', 'True', 'hi'], dtype='<U32')"
      ]
     },
     "execution_count": 7,
     "metadata": {},
     "output_type": "execute_result"
    }
   ],
   "source": [
    "np.array([5,4,5,6,5.7,True,\"hi\"])"
   ]
  },
  {
   "cell_type": "code",
   "execution_count": 8,
   "id": "b6ac65fa",
   "metadata": {},
   "outputs": [],
   "source": [
    "# 2. Using np.arange\n",
    "x = np.arange(1,21)"
   ]
  },
  {
   "cell_type": "code",
   "execution_count": 9,
   "id": "bb971d0c",
   "metadata": {},
   "outputs": [
    {
     "data": {
      "text/plain": [
       "array([ 1,  2,  3,  4,  5,  6,  7,  8,  9, 10, 11, 12, 13, 14, 15, 16, 17,\n",
       "       18, 19, 20])"
      ]
     },
     "execution_count": 9,
     "metadata": {},
     "output_type": "execute_result"
    }
   ],
   "source": [
    "x"
   ]
  },
  {
   "cell_type": "code",
   "execution_count": 10,
   "id": "9b118e38",
   "metadata": {},
   "outputs": [],
   "source": [
    "x = np.arange(1,21,2)"
   ]
  },
  {
   "cell_type": "code",
   "execution_count": 11,
   "id": "9eb9ecbb",
   "metadata": {},
   "outputs": [
    {
     "data": {
      "text/plain": [
       "array([ 1,  3,  5,  7,  9, 11, 13, 15, 17, 19])"
      ]
     },
     "execution_count": 11,
     "metadata": {},
     "output_type": "execute_result"
    }
   ],
   "source": [
    "x"
   ]
  },
  {
   "cell_type": "code",
   "execution_count": 12,
   "id": "8f75e117",
   "metadata": {},
   "outputs": [
    {
     "data": {
      "text/plain": [
       "array([ 1.        ,  1.18367347,  1.36734694,  1.55102041,  1.73469388,\n",
       "        1.91836735,  2.10204082,  2.28571429,  2.46938776,  2.65306122,\n",
       "        2.83673469,  3.02040816,  3.20408163,  3.3877551 ,  3.57142857,\n",
       "        3.75510204,  3.93877551,  4.12244898,  4.30612245,  4.48979592,\n",
       "        4.67346939,  4.85714286,  5.04081633,  5.2244898 ,  5.40816327,\n",
       "        5.59183673,  5.7755102 ,  5.95918367,  6.14285714,  6.32653061,\n",
       "        6.51020408,  6.69387755,  6.87755102,  7.06122449,  7.24489796,\n",
       "        7.42857143,  7.6122449 ,  7.79591837,  7.97959184,  8.16326531,\n",
       "        8.34693878,  8.53061224,  8.71428571,  8.89795918,  9.08163265,\n",
       "        9.26530612,  9.44897959,  9.63265306,  9.81632653, 10.        ])"
      ]
     },
     "execution_count": 12,
     "metadata": {},
     "output_type": "execute_result"
    }
   ],
   "source": [
    "# 3. Using np.linspace -> linear space\n",
    "np.linspace(1,10)\n",
    "# it creates by default array of 50 elements within given range with equal interval"
   ]
  },
  {
   "cell_type": "code",
   "execution_count": 13,
   "id": "d4d3a90e",
   "metadata": {},
   "outputs": [
    {
     "data": {
      "text/plain": [
       "array([ 1.        ,  2.28571429,  3.57142857,  4.85714286,  6.14285714,\n",
       "        7.42857143,  8.71428571, 10.        ])"
      ]
     },
     "execution_count": 13,
     "metadata": {},
     "output_type": "execute_result"
    }
   ],
   "source": [
    "np.linspace(1,10,8)"
   ]
  },
  {
   "cell_type": "code",
   "execution_count": 14,
   "id": "2b31122f",
   "metadata": {},
   "outputs": [
    {
     "data": {
      "text/plain": [
       "(array([ 1.        ,  2.28571429,  3.57142857,  4.85714286,  6.14285714,\n",
       "         7.42857143,  8.71428571, 10.        ]),\n",
       " 1.2857142857142858)"
      ]
     },
     "execution_count": 14,
     "metadata": {},
     "output_type": "execute_result"
    }
   ],
   "source": [
    "np.linspace(1,10,8,retstep=True)\n",
    "# it will create array with 8 elements within range 0f 1 to 10"
   ]
  },
  {
   "cell_type": "code",
   "execution_count": 17,
   "id": "5ef5f916",
   "metadata": {},
   "outputs": [
    {
     "data": {
      "text/plain": [
       "0.4816723004938901"
      ]
     },
     "execution_count": 17,
     "metadata": {},
     "output_type": "execute_result"
    }
   ],
   "source": [
    "# 4. Using np.random\n",
    "np.random.random()\n",
    "# it will create random number b/w 0 to 1"
   ]
  },
  {
   "cell_type": "code",
   "execution_count": 18,
   "id": "6c16912d",
   "metadata": {},
   "outputs": [
    {
     "data": {
      "text/plain": [
       "array([0.94339286, 0.18408837, 0.17227053, 0.74697   , 0.93710813])"
      ]
     },
     "execution_count": 18,
     "metadata": {},
     "output_type": "execute_result"
    }
   ],
   "source": [
    "np.random.random(5)"
   ]
  },
  {
   "cell_type": "code",
   "execution_count": 20,
   "id": "2df559a4",
   "metadata": {},
   "outputs": [
    {
     "data": {
      "text/plain": [
       "array([[0.67184092, 0.64025156, 0.24850991, 0.21912276],\n",
       "       [0.83349351, 0.45427219, 0.30248132, 0.8634332 ],\n",
       "       [0.74098936, 0.18633114, 0.09116865, 0.85864498],\n",
       "       [0.23875653, 0.96522876, 0.52010461, 0.70997317],\n",
       "       [0.55113031, 0.82855672, 0.48848095, 0.78638996]])"
      ]
     },
     "execution_count": 20,
     "metadata": {},
     "output_type": "execute_result"
    }
   ],
   "source": [
    "np.random.random(size=(5,4))\n",
    "# it will create a matrix of 5x4"
   ]
  },
  {
   "cell_type": "code",
   "execution_count": 21,
   "id": "bcba7e25",
   "metadata": {},
   "outputs": [
    {
     "data": {
      "text/plain": [
       "-0.48657778159788034"
      ]
     },
     "execution_count": 21,
     "metadata": {},
     "output_type": "execute_result"
    }
   ],
   "source": [
    "np.random.randn()"
   ]
  },
  {
   "cell_type": "code",
   "execution_count": 22,
   "id": "4d321bea",
   "metadata": {},
   "outputs": [
    {
     "data": {
      "text/plain": [
       "array([-0.79541454,  0.43352393, -1.33993245,  2.03305922,  0.75729476])"
      ]
     },
     "execution_count": 22,
     "metadata": {},
     "output_type": "execute_result"
    }
   ],
   "source": [
    "np.random.randn(5)"
   ]
  },
  {
   "cell_type": "code",
   "execution_count": 23,
   "id": "707826de",
   "metadata": {},
   "outputs": [
    {
     "data": {
      "text/plain": [
       "array([[-1.40039907, -0.76508098,  1.17713888, -0.48951483],\n",
       "       [ 0.87193229, -1.55194876, -1.45126316,  0.7861946 ],\n",
       "       [-0.81460392, -1.00820749, -1.71698622,  0.57136442],\n",
       "       [-0.52129007, -0.51980921, -0.00986995, -1.13554464],\n",
       "       [ 0.32598734,  0.43489017,  0.60139438, -0.41980431]])"
      ]
     },
     "execution_count": 23,
     "metadata": {},
     "output_type": "execute_result"
    }
   ],
   "source": [
    "np.random.randn(5,4)"
   ]
  },
  {
   "cell_type": "code",
   "execution_count": 24,
   "id": "9dc2c529",
   "metadata": {},
   "outputs": [
    {
     "data": {
      "text/plain": [
       "33"
      ]
     },
     "execution_count": 24,
     "metadata": {},
     "output_type": "execute_result"
    }
   ],
   "source": [
    "np.random.randint(1,50)"
   ]
  },
  {
   "cell_type": "code",
   "execution_count": 25,
   "id": "589bb01f",
   "metadata": {},
   "outputs": [
    {
     "data": {
      "text/plain": [
       "array([13, 34, 33, 33, 27, 46, 28,  3])"
      ]
     },
     "execution_count": 25,
     "metadata": {},
     "output_type": "execute_result"
    }
   ],
   "source": [
    "np.random.randint(1,50,8)"
   ]
  },
  {
   "cell_type": "code",
   "execution_count": 26,
   "id": "ac814991",
   "metadata": {},
   "outputs": [
    {
     "data": {
      "text/plain": [
       "array([[17, 16, 37,  3],\n",
       "       [19, 42, 11, 37],\n",
       "       [44, 30, 33, 38],\n",
       "       [30, 47, 30, 29],\n",
       "       [35,  7, 27,  8]])"
      ]
     },
     "execution_count": 26,
     "metadata": {},
     "output_type": "execute_result"
    }
   ],
   "source": [
    "np.random.randint(1,50,(5,4))"
   ]
  },
  {
   "cell_type": "code",
   "execution_count": 27,
   "id": "6d4496bb",
   "metadata": {},
   "outputs": [
    {
     "data": {
      "text/plain": [
       "array([0., 0., 0., 0., 0.])"
      ]
     },
     "execution_count": 27,
     "metadata": {},
     "output_type": "execute_result"
    }
   ],
   "source": [
    "np.zeros(5)"
   ]
  },
  {
   "cell_type": "code",
   "execution_count": 28,
   "id": "4775ac18",
   "metadata": {},
   "outputs": [
    {
     "data": {
      "text/plain": [
       "array([[0., 0., 0., 0., 0.],\n",
       "       [0., 0., 0., 0., 0.],\n",
       "       [0., 0., 0., 0., 0.],\n",
       "       [0., 0., 0., 0., 0.],\n",
       "       [0., 0., 0., 0., 0.]])"
      ]
     },
     "execution_count": 28,
     "metadata": {},
     "output_type": "execute_result"
    }
   ],
   "source": [
    "np.zeros((5,5))"
   ]
  },
  {
   "cell_type": "code",
   "execution_count": 29,
   "id": "46d04799",
   "metadata": {},
   "outputs": [
    {
     "data": {
      "text/plain": [
       "array([[1., 1., 1., 1., 1.],\n",
       "       [1., 1., 1., 1., 1.],\n",
       "       [1., 1., 1., 1., 1.],\n",
       "       [1., 1., 1., 1., 1.],\n",
       "       [1., 1., 1., 1., 1.]])"
      ]
     },
     "execution_count": 29,
     "metadata": {},
     "output_type": "execute_result"
    }
   ],
   "source": [
    "np.ones((5,5))"
   ]
  },
  {
   "cell_type": "code",
   "execution_count": 30,
   "id": "8781e150",
   "metadata": {},
   "outputs": [
    {
     "data": {
      "text/plain": [
       "array([[1., 0., 0., 0., 0.],\n",
       "       [0., 1., 0., 0., 0.],\n",
       "       [0., 0., 1., 0., 0.],\n",
       "       [0., 0., 0., 1., 0.],\n",
       "       [0., 0., 0., 0., 1.]])"
      ]
     },
     "execution_count": 30,
     "metadata": {},
     "output_type": "execute_result"
    }
   ],
   "source": [
    "np.identity(5)"
   ]
  },
  {
   "cell_type": "code",
   "execution_count": 31,
   "id": "0ba868eb",
   "metadata": {},
   "outputs": [],
   "source": [
    "x = np.random.randint(1,50,(5,4))"
   ]
  },
  {
   "cell_type": "code",
   "execution_count": 32,
   "id": "ede4fedd",
   "metadata": {},
   "outputs": [
    {
     "data": {
      "text/plain": [
       "array([[30, 43, 45,  4],\n",
       "       [17, 41, 44, 38],\n",
       "       [39, 49, 30, 32],\n",
       "       [16, 48, 27,  4],\n",
       "       [ 8, 47, 48, 40]])"
      ]
     },
     "execution_count": 32,
     "metadata": {},
     "output_type": "execute_result"
    }
   ],
   "source": [
    "x"
   ]
  },
  {
   "cell_type": "code",
   "execution_count": 34,
   "id": "e5dd39bc",
   "metadata": {},
   "outputs": [
    {
     "data": {
      "text/plain": [
       "array([[0, 0, 0, 0],\n",
       "       [0, 0, 0, 0],\n",
       "       [0, 0, 0, 0],\n",
       "       [0, 0, 0, 0],\n",
       "       [0, 0, 0, 0]])"
      ]
     },
     "execution_count": 34,
     "metadata": {},
     "output_type": "execute_result"
    }
   ],
   "source": [
    "np.zeros_like(x)"
   ]
  },
  {
   "cell_type": "markdown",
   "id": "da7eebd6",
   "metadata": {},
   "source": [
    "## Multi-Dimensional Array "
   ]
  },
  {
   "cell_type": "code",
   "execution_count": 35,
   "id": "c0260594",
   "metadata": {},
   "outputs": [
    {
     "data": {
      "text/plain": [
       "array([[1, 2, 3],\n",
       "       [5, 6, 4],\n",
       "       [3, 8, 6],\n",
       "       [4, 3, 2]])"
      ]
     },
     "execution_count": 35,
     "metadata": {},
     "output_type": "execute_result"
    }
   ],
   "source": [
    "# 1D Array\n",
    "# np.array([4,56,7,8,4,3])\n",
    "\n",
    "# 2D Array\n",
    "np.array([[1,2,3], [5,6,4], [3,8,6], [4,3,2]])"
   ]
  },
  {
   "cell_type": "code",
   "execution_count": 36,
   "id": "578ac357",
   "metadata": {},
   "outputs": [
    {
     "data": {
      "text/plain": [
       "array([[[4, 5, 6],\n",
       "        [2, 3, 1]],\n",
       "\n",
       "       [[4, 5, 6],\n",
       "        [2, 3, 1]],\n",
       "\n",
       "       [[4, 5, 6],\n",
       "        [2, 3, 1]]])"
      ]
     },
     "execution_count": 36,
     "metadata": {},
     "output_type": "execute_result"
    }
   ],
   "source": [
    "# 3D Array\n",
    "np.array([[[4,5,6], [2,3,1]], [[4,5,6], [2,3,1]], [[4,5,6], [2,3,1]]])"
   ]
  },
  {
   "cell_type": "markdown",
   "id": "4be25e73",
   "metadata": {},
   "source": [
    "## Indexing and Slicing "
   ]
  },
  {
   "cell_type": "code",
   "execution_count": 37,
   "id": "3aaf96ae",
   "metadata": {},
   "outputs": [],
   "source": [
    "# Indexing and Slicing 1D Array\n",
    "x = np.random.randint(4,25,15)"
   ]
  },
  {
   "cell_type": "code",
   "execution_count": 38,
   "id": "91df013c",
   "metadata": {},
   "outputs": [
    {
     "data": {
      "text/plain": [
       "array([15, 14, 22, 19, 14,  5,  5, 19, 12,  9, 19, 15, 10,  9, 20])"
      ]
     },
     "execution_count": 38,
     "metadata": {},
     "output_type": "execute_result"
    }
   ],
   "source": [
    "x"
   ]
  },
  {
   "cell_type": "code",
   "execution_count": 39,
   "id": "b6d94ffb",
   "metadata": {},
   "outputs": [
    {
     "data": {
      "text/plain": [
       "15"
      ]
     },
     "execution_count": 39,
     "metadata": {},
     "output_type": "execute_result"
    }
   ],
   "source": [
    "x[0]"
   ]
  },
  {
   "cell_type": "code",
   "execution_count": 40,
   "id": "d6ee767f",
   "metadata": {},
   "outputs": [
    {
     "data": {
      "text/plain": [
       "20"
      ]
     },
     "execution_count": 40,
     "metadata": {},
     "output_type": "execute_result"
    }
   ],
   "source": [
    "x[-1]"
   ]
  },
  {
   "cell_type": "code",
   "execution_count": 41,
   "id": "940b6495",
   "metadata": {},
   "outputs": [
    {
     "data": {
      "text/plain": [
       "array([15, 14, 22, 19, 14])"
      ]
     },
     "execution_count": 41,
     "metadata": {},
     "output_type": "execute_result"
    }
   ],
   "source": [
    "x[:5]"
   ]
  },
  {
   "cell_type": "code",
   "execution_count": 42,
   "id": "7a9c385f",
   "metadata": {},
   "outputs": [
    {
     "data": {
      "text/plain": [
       "array([ 5,  5, 19, 12,  9])"
      ]
     },
     "execution_count": 42,
     "metadata": {},
     "output_type": "execute_result"
    }
   ],
   "source": [
    "x[5:10]"
   ]
  },
  {
   "cell_type": "code",
   "execution_count": 43,
   "id": "b7ceeb80",
   "metadata": {},
   "outputs": [
    {
     "data": {
      "text/plain": [
       "array([20,  9, 10, 15, 19,  9, 12, 19,  5,  5, 14, 19, 22, 14, 15])"
      ]
     },
     "execution_count": 43,
     "metadata": {},
     "output_type": "execute_result"
    }
   ],
   "source": [
    "x[::-1]"
   ]
  },
  {
   "cell_type": "code",
   "execution_count": 44,
   "id": "a0beacc5",
   "metadata": {},
   "outputs": [],
   "source": [
    "# Indexing and Slicing 2D Array\n",
    "x = np.random.randint(4,25,(5,6))"
   ]
  },
  {
   "cell_type": "code",
   "execution_count": 45,
   "id": "b6a9de10",
   "metadata": {},
   "outputs": [
    {
     "data": {
      "text/plain": [
       "array([[17, 18, 13,  6, 21, 20],\n",
       "       [22, 12,  5,  6, 23, 13],\n",
       "       [ 9, 23, 19, 16, 17, 15],\n",
       "       [14, 21, 17, 24,  6,  4],\n",
       "       [ 4, 18,  8, 20, 16,  9]])"
      ]
     },
     "execution_count": 45,
     "metadata": {},
     "output_type": "execute_result"
    }
   ],
   "source": [
    "x"
   ]
  },
  {
   "cell_type": "code",
   "execution_count": 46,
   "id": "de5a84a7",
   "metadata": {},
   "outputs": [
    {
     "data": {
      "text/plain": [
       "array([17, 18, 13,  6, 21, 20])"
      ]
     },
     "execution_count": 46,
     "metadata": {},
     "output_type": "execute_result"
    }
   ],
   "source": [
    "# return 1st row\n",
    "x[0]"
   ]
  },
  {
   "cell_type": "code",
   "execution_count": 47,
   "id": "019f056f",
   "metadata": {},
   "outputs": [
    {
     "data": {
      "text/plain": [
       "array([22, 12,  5,  6, 23, 13])"
      ]
     },
     "execution_count": 47,
     "metadata": {},
     "output_type": "execute_result"
    }
   ],
   "source": [
    "# return 2nd row\n",
    "x[1]"
   ]
  },
  {
   "cell_type": "code",
   "execution_count": 48,
   "id": "0c8908ee",
   "metadata": {},
   "outputs": [
    {
     "data": {
      "text/plain": [
       "array([[17, 18, 13,  6, 21, 20],\n",
       "       [22, 12,  5,  6, 23, 13],\n",
       "       [ 9, 23, 19, 16, 17, 15]])"
      ]
     },
     "execution_count": 48,
     "metadata": {},
     "output_type": "execute_result"
    }
   ],
   "source": [
    "# will return 1st, 2nd and 3rd row\n",
    "x[0:3]"
   ]
  },
  {
   "cell_type": "code",
   "execution_count": 50,
   "id": "2131e1c2",
   "metadata": {},
   "outputs": [
    {
     "data": {
      "text/plain": [
       "17"
      ]
     },
     "execution_count": 50,
     "metadata": {},
     "output_type": "execute_result"
    }
   ],
   "source": [
    "x[0][0]"
   ]
  },
  {
   "cell_type": "code",
   "execution_count": 51,
   "id": "6fe77c12",
   "metadata": {},
   "outputs": [
    {
     "data": {
      "text/plain": [
       "array([17, 22,  9, 14,  4])"
      ]
     },
     "execution_count": 51,
     "metadata": {},
     "output_type": "execute_result"
    }
   ],
   "source": [
    "# will return all the rows but 1st column only\n",
    "x[:,0]"
   ]
  },
  {
   "cell_type": "code",
   "execution_count": 52,
   "id": "fa459473",
   "metadata": {},
   "outputs": [
    {
     "data": {
      "text/plain": [
       "array([[17],\n",
       "       [22],\n",
       "       [ 9],\n",
       "       [14],\n",
       "       [ 4]])"
      ]
     },
     "execution_count": 52,
     "metadata": {},
     "output_type": "execute_result"
    }
   ],
   "source": [
    "# will return all the rows but 1st column only in 2 Dimension\n",
    "x[:,0:1]"
   ]
  },
  {
   "cell_type": "code",
   "execution_count": 53,
   "id": "2f9cbe56",
   "metadata": {},
   "outputs": [
    {
     "data": {
      "text/plain": [
       "array([[17, 18],\n",
       "       [22, 12],\n",
       "       [ 9, 23],\n",
       "       [14, 21],\n",
       "       [ 4, 18]])"
      ]
     },
     "execution_count": 53,
     "metadata": {},
     "output_type": "execute_result"
    }
   ],
   "source": [
    "# Slicing columns from 0 to 2\n",
    "x[:,0:2]"
   ]
  },
  {
   "cell_type": "code",
   "execution_count": 54,
   "id": "9626b9c9",
   "metadata": {},
   "outputs": [
    {
     "data": {
      "text/plain": [
       "array([[17, 18, 13],\n",
       "       [22, 12,  5],\n",
       "       [ 9, 23, 19],\n",
       "       [14, 21, 17],\n",
       "       [ 4, 18,  8]])"
      ]
     },
     "execution_count": 54,
     "metadata": {},
     "output_type": "execute_result"
    }
   ],
   "source": [
    "x[:,0:3]"
   ]
  },
  {
   "cell_type": "code",
   "execution_count": 55,
   "id": "f083fe80",
   "metadata": {},
   "outputs": [
    {
     "data": {
      "text/plain": [
       "array([[17, 18, 13],\n",
       "       [22, 12,  5],\n",
       "       [ 9, 23, 19]])"
      ]
     },
     "execution_count": 55,
     "metadata": {},
     "output_type": "execute_result"
    }
   ],
   "source": [
    "x[0:3, 0:3]"
   ]
  },
  {
   "cell_type": "markdown",
   "id": "93fab8b9",
   "metadata": {},
   "source": [
    "## Methods of Numpy "
   ]
  },
  {
   "cell_type": "code",
   "execution_count": 56,
   "id": "f00cde16",
   "metadata": {},
   "outputs": [],
   "source": [
    "x = np.random.randint(4,20,24)"
   ]
  },
  {
   "cell_type": "code",
   "execution_count": 57,
   "id": "cc300520",
   "metadata": {},
   "outputs": [
    {
     "data": {
      "text/plain": [
       "array([18, 12,  4, 13, 18, 15, 18,  5,  7, 16,  8,  8,  7,  8,  7,  9, 16,\n",
       "        9, 13, 13, 13,  5,  4,  9])"
      ]
     },
     "execution_count": 57,
     "metadata": {},
     "output_type": "execute_result"
    }
   ],
   "source": [
    "x"
   ]
  },
  {
   "cell_type": "code",
   "execution_count": 58,
   "id": "18e97171",
   "metadata": {},
   "outputs": [
    {
     "data": {
      "text/plain": [
       "(24,)"
      ]
     },
     "execution_count": 58,
     "metadata": {},
     "output_type": "execute_result"
    }
   ],
   "source": [
    "x.shape"
   ]
  },
  {
   "cell_type": "code",
   "execution_count": 59,
   "id": "821eac4b",
   "metadata": {},
   "outputs": [
    {
     "data": {
      "text/plain": [
       "255"
      ]
     },
     "execution_count": 59,
     "metadata": {},
     "output_type": "execute_result"
    }
   ],
   "source": [
    "x.sum()"
   ]
  },
  {
   "cell_type": "code",
   "execution_count": 60,
   "id": "1c7e6b53",
   "metadata": {},
   "outputs": [
    {
     "data": {
      "text/plain": [
       "255"
      ]
     },
     "execution_count": 60,
     "metadata": {},
     "output_type": "execute_result"
    }
   ],
   "source": [
    "np.sum(x)"
   ]
  },
  {
   "cell_type": "code",
   "execution_count": 61,
   "id": "d1678bc9",
   "metadata": {},
   "outputs": [
    {
     "data": {
      "text/plain": [
       "10.625"
      ]
     },
     "execution_count": 61,
     "metadata": {},
     "output_type": "execute_result"
    }
   ],
   "source": [
    "np.mean(x)"
   ]
  },
  {
   "cell_type": "code",
   "execution_count": 62,
   "id": "e6abcf80",
   "metadata": {},
   "outputs": [
    {
     "data": {
      "text/plain": [
       "9.0"
      ]
     },
     "execution_count": 62,
     "metadata": {},
     "output_type": "execute_result"
    }
   ],
   "source": [
    "np.median(x)"
   ]
  },
  {
   "cell_type": "code",
   "execution_count": 63,
   "id": "26c9065a",
   "metadata": {},
   "outputs": [
    {
     "data": {
      "text/plain": [
       "4.488991163576363"
      ]
     },
     "execution_count": 63,
     "metadata": {},
     "output_type": "execute_result"
    }
   ],
   "source": [
    "np.std(x)"
   ]
  },
  {
   "cell_type": "code",
   "execution_count": 64,
   "id": "fb1427c9",
   "metadata": {},
   "outputs": [
    {
     "data": {
      "text/plain": [
       "20.151041666666668"
      ]
     },
     "execution_count": 64,
     "metadata": {},
     "output_type": "execute_result"
    }
   ],
   "source": [
    "np.var(x)"
   ]
  },
  {
   "cell_type": "code",
   "execution_count": 65,
   "id": "ede31c87",
   "metadata": {},
   "outputs": [
    {
     "data": {
      "text/plain": [
       "18"
      ]
     },
     "execution_count": 65,
     "metadata": {},
     "output_type": "execute_result"
    }
   ],
   "source": [
    "np.max(x)"
   ]
  },
  {
   "cell_type": "code",
   "execution_count": 66,
   "id": "95924446",
   "metadata": {},
   "outputs": [
    {
     "data": {
      "text/plain": [
       "4"
      ]
     },
     "execution_count": 66,
     "metadata": {},
     "output_type": "execute_result"
    }
   ],
   "source": [
    "np.min(x)"
   ]
  },
  {
   "cell_type": "code",
   "execution_count": 67,
   "id": "58bcaf2a",
   "metadata": {},
   "outputs": [
    {
     "data": {
      "text/plain": [
       "array([ 4,  4,  5,  5,  7,  7,  7,  8,  8,  8,  9,  9,  9, 12, 13, 13, 13,\n",
       "       13, 15, 16, 16, 18, 18, 18])"
      ]
     },
     "execution_count": 67,
     "metadata": {},
     "output_type": "execute_result"
    }
   ],
   "source": [
    "np.sort(x)"
   ]
  },
  {
   "cell_type": "code",
   "execution_count": 68,
   "id": "7e5b608d",
   "metadata": {},
   "outputs": [
    {
     "data": {
      "text/plain": [
       "0"
      ]
     },
     "execution_count": 68,
     "metadata": {},
     "output_type": "execute_result"
    }
   ],
   "source": [
    "# Index of max\n",
    "np.argmax(x)"
   ]
  },
  {
   "cell_type": "code",
   "execution_count": 69,
   "id": "141f9cd9",
   "metadata": {},
   "outputs": [
    {
     "data": {
      "text/plain": [
       "2"
      ]
     },
     "execution_count": 69,
     "metadata": {},
     "output_type": "execute_result"
    }
   ],
   "source": [
    "# Index of min\n",
    "np.argmin(x)"
   ]
  },
  {
   "cell_type": "code",
   "execution_count": 70,
   "id": "fc1dbc65",
   "metadata": {},
   "outputs": [],
   "source": [
    "y = np.reshape(x, (4,6))"
   ]
  },
  {
   "cell_type": "code",
   "execution_count": 71,
   "id": "c58c8ee5",
   "metadata": {},
   "outputs": [
    {
     "data": {
      "text/plain": [
       "array([[18, 12,  4, 13, 18, 15],\n",
       "       [18,  5,  7, 16,  8,  8],\n",
       "       [ 7,  8,  7,  9, 16,  9],\n",
       "       [13, 13, 13,  5,  4,  9]])"
      ]
     },
     "execution_count": 71,
     "metadata": {},
     "output_type": "execute_result"
    }
   ],
   "source": [
    "y"
   ]
  },
  {
   "cell_type": "code",
   "execution_count": 72,
   "id": "03c8e008",
   "metadata": {},
   "outputs": [
    {
     "data": {
      "text/plain": [
       "255"
      ]
     },
     "execution_count": 72,
     "metadata": {},
     "output_type": "execute_result"
    }
   ],
   "source": [
    "np.sum(y)"
   ]
  },
  {
   "cell_type": "code",
   "execution_count": 73,
   "id": "37a485eb",
   "metadata": {},
   "outputs": [
    {
     "data": {
      "text/plain": [
       "array([80, 62, 56, 57])"
      ]
     },
     "execution_count": 73,
     "metadata": {},
     "output_type": "execute_result"
    }
   ],
   "source": [
    "# sum of each row\n",
    "np.sum(y, axis=1)"
   ]
  },
  {
   "cell_type": "code",
   "execution_count": 74,
   "id": "48423c8f",
   "metadata": {},
   "outputs": [
    {
     "data": {
      "text/plain": [
       "array([56, 38, 31, 43, 46, 41])"
      ]
     },
     "execution_count": 74,
     "metadata": {},
     "output_type": "execute_result"
    }
   ],
   "source": [
    "# sum of each col\n",
    "np.sum(y, axis=0)"
   ]
  },
  {
   "cell_type": "code",
   "execution_count": 76,
   "id": "b6a98cee",
   "metadata": {},
   "outputs": [
    {
     "data": {
      "text/plain": [
       "array([14.  ,  9.5 ,  7.75, 10.75, 11.5 , 10.25])"
      ]
     },
     "execution_count": 76,
     "metadata": {},
     "output_type": "execute_result"
    }
   ],
   "source": [
    "np.mean(y, axis=0)"
   ]
  },
  {
   "cell_type": "code",
   "execution_count": 77,
   "id": "04734941",
   "metadata": {},
   "outputs": [
    {
     "data": {
      "text/plain": [
       "array([13.33333333, 10.33333333,  9.33333333,  9.5       ])"
      ]
     },
     "execution_count": 77,
     "metadata": {},
     "output_type": "execute_result"
    }
   ],
   "source": [
    "np.mean(y, axis=1)"
   ]
  },
  {
   "cell_type": "code",
   "execution_count": 78,
   "id": "cb08de9b",
   "metadata": {},
   "outputs": [
    {
     "data": {
      "text/plain": [
       "array([[18, 12,  4, 13, 18, 15],\n",
       "       [18,  5,  7, 16,  8,  8],\n",
       "       [ 7,  8,  7,  9, 16,  9],\n",
       "       [13, 13, 13,  5,  4,  9]])"
      ]
     },
     "execution_count": 78,
     "metadata": {},
     "output_type": "execute_result"
    }
   ],
   "source": [
    "y"
   ]
  },
  {
   "cell_type": "code",
   "execution_count": 85,
   "id": "afd37eae",
   "metadata": {},
   "outputs": [
    {
     "data": {
      "text/plain": [
       "array([[18, 12,  4, 13, 18, 15,  1],\n",
       "       [18,  5,  7, 16,  8,  8,  2],\n",
       "       [ 7,  8,  7,  9, 16,  9,  3],\n",
       "       [13, 13, 13,  5,  4,  9,  4]])"
      ]
     },
     "execution_count": 85,
     "metadata": {},
     "output_type": "execute_result"
    }
   ],
   "source": [
    "# adding a column in array\n",
    "y1 = np.array([[1],[2],[3],[4]])\n",
    "np.hstack((y, y1))"
   ]
  },
  {
   "cell_type": "code",
   "execution_count": 86,
   "id": "2ba15ba7",
   "metadata": {},
   "outputs": [
    {
     "data": {
      "text/plain": [
       "array([[18, 12,  4, 13, 18, 15],\n",
       "       [18,  5,  7, 16,  8,  8],\n",
       "       [ 7,  8,  7,  9, 16,  9],\n",
       "       [13, 13, 13,  5,  4,  9],\n",
       "       [ 1,  2,  3,  4,  5,  6]])"
      ]
     },
     "execution_count": 86,
     "metadata": {},
     "output_type": "execute_result"
    }
   ],
   "source": [
    "y2 = np.array([[1,2,3,4,5,6]])\n",
    "np.vstack((y,y2))"
   ]
  },
  {
   "cell_type": "code",
   "execution_count": 87,
   "id": "d96f2cbb",
   "metadata": {},
   "outputs": [
    {
     "data": {
      "text/plain": [
       "array([[18, 12,  4, 13, 18, 15,  1],\n",
       "       [18,  5,  7, 16,  8,  8,  2],\n",
       "       [ 7,  8,  7,  9, 16,  9,  3],\n",
       "       [13, 13, 13,  5,  4,  9,  4]])"
      ]
     },
     "execution_count": 87,
     "metadata": {},
     "output_type": "execute_result"
    }
   ],
   "source": [
    "np.c_[y, y1]"
   ]
  },
  {
   "cell_type": "code",
   "execution_count": 88,
   "id": "9b3328de",
   "metadata": {},
   "outputs": [
    {
     "data": {
      "text/plain": [
       "array([[18, 12,  4, 13, 18, 15],\n",
       "       [18,  5,  7, 16,  8,  8],\n",
       "       [ 7,  8,  7,  9, 16,  9],\n",
       "       [13, 13, 13,  5,  4,  9],\n",
       "       [ 1,  2,  3,  4,  5,  6]])"
      ]
     },
     "execution_count": 88,
     "metadata": {},
     "output_type": "execute_result"
    }
   ],
   "source": [
    "np.r_[y, y2]"
   ]
  },
  {
   "cell_type": "code",
   "execution_count": 90,
   "id": "7a062158",
   "metadata": {},
   "outputs": [
    {
     "data": {
      "text/plain": [
       "array([[18, 12,  4, 13, 18, 15],\n",
       "       [18,  5,  7, 16,  8,  8],\n",
       "       [ 7,  8,  7,  9, 16,  9],\n",
       "       [13, 13, 13,  5,  4,  9]])"
      ]
     },
     "execution_count": 90,
     "metadata": {},
     "output_type": "execute_result"
    }
   ],
   "source": [
    "y"
   ]
  },
  {
   "cell_type": "code",
   "execution_count": 89,
   "id": "b1ead21b",
   "metadata": {},
   "outputs": [
    {
     "data": {
      "text/plain": [
       "(array([0, 0, 0, 0, 0, 1, 1, 2, 3, 3, 3], dtype=int64),\n",
       " array([0, 1, 3, 4, 5, 0, 3, 4, 0, 1, 2], dtype=int64))"
      ]
     },
     "execution_count": 89,
     "metadata": {},
     "output_type": "execute_result"
    }
   ],
   "source": [
    "np.where(y > 10)"
   ]
  },
  {
   "cell_type": "code",
   "execution_count": 93,
   "id": "ad3a7063",
   "metadata": {},
   "outputs": [
    {
     "data": {
      "text/plain": [
       "(array([0, 0, 0, 1, 1, 2], dtype=int64),\n",
       " array([0, 4, 5, 0, 3, 4], dtype=int64))"
      ]
     },
     "execution_count": 93,
     "metadata": {},
     "output_type": "execute_result"
    }
   ],
   "source": [
    "np.where(y > 14)"
   ]
  },
  {
   "cell_type": "code",
   "execution_count": 95,
   "id": "fd5da156",
   "metadata": {},
   "outputs": [
    {
     "data": {
      "text/plain": [
       "array([[ 0, 12,  4, 13,  0,  0],\n",
       "       [ 0,  5,  7,  0,  8,  8],\n",
       "       [ 7,  8,  7,  9,  0,  9],\n",
       "       [13, 13, 13,  5,  4,  9]])"
      ]
     },
     "execution_count": 95,
     "metadata": {},
     "output_type": "execute_result"
    }
   ],
   "source": [
    "np.where(y > 14, 0, y)"
   ]
  },
  {
   "cell_type": "code",
   "execution_count": 96,
   "id": "7fc24f17",
   "metadata": {},
   "outputs": [
    {
     "data": {
      "text/plain": [
       "array([[0, 1, 1, 1, 0, 0],\n",
       "       [0, 1, 1, 0, 1, 1],\n",
       "       [1, 1, 1, 1, 0, 1],\n",
       "       [1, 1, 1, 1, 1, 1]])"
      ]
     },
     "execution_count": 96,
     "metadata": {},
     "output_type": "execute_result"
    }
   ],
   "source": [
    "np.where(y > 14, 0, 1)"
   ]
  },
  {
   "cell_type": "code",
   "execution_count": 97,
   "id": "2cff4e2e",
   "metadata": {},
   "outputs": [
    {
     "data": {
      "text/plain": [
       "array([[ 27.06666667,  11.46666667,   8.66666667,  -9.2       ],\n",
       "       [ 11.46666667,  28.26666667,  -3.93333333,  -3.        ],\n",
       "       [  8.66666667,  -3.93333333,  11.46666667, -11.2       ],\n",
       "       [ -9.2       ,  -3.        , -11.2       ,  17.5       ]])"
      ]
     },
     "execution_count": 97,
     "metadata": {},
     "output_type": "execute_result"
    }
   ],
   "source": [
    "# no specific range\n",
    "np.cov(y)"
   ]
  },
  {
   "cell_type": "code",
   "execution_count": 99,
   "id": "55400833",
   "metadata": {},
   "outputs": [
    {
     "data": {
      "text/plain": [
       "array([[ 1.        ,  0.41455533,  0.4919445 , -0.42271866],\n",
       "       [ 0.41455533,  1.        , -0.21847657, -0.1348854 ],\n",
       "       [ 0.4919445 , -0.21847657,  1.        , -0.79064295],\n",
       "       [-0.42271866, -0.1348854 , -0.79064295,  1.        ]])"
      ]
     },
     "execution_count": 99,
     "metadata": {},
     "output_type": "execute_result"
    }
   ],
   "source": [
    "# range is from -1 to +1\n",
    "np.corrcoef(y)"
   ]
  },
  {
   "cell_type": "markdown",
   "id": "062f7c4f",
   "metadata": {},
   "source": [
    "## Broadcasting "
   ]
  },
  {
   "cell_type": "code",
   "execution_count": 101,
   "id": "52819848",
   "metadata": {},
   "outputs": [
    {
     "data": {
      "text/plain": [
       "array([[19, 13,  5, 14, 19, 16],\n",
       "       [19,  6,  8, 17,  9,  9],\n",
       "       [ 8,  9,  8, 10, 17, 10],\n",
       "       [14, 14, 14,  6,  5, 10]])"
      ]
     },
     "execution_count": 101,
     "metadata": {},
     "output_type": "execute_result"
    }
   ],
   "source": [
    "y + 1"
   ]
  },
  {
   "cell_type": "code",
   "execution_count": 102,
   "id": "28557927",
   "metadata": {},
   "outputs": [
    {
     "data": {
      "text/plain": [
       "array([[13,  7, -1,  8, 13, 10],\n",
       "       [13,  0,  2, 11,  3,  3],\n",
       "       [ 2,  3,  2,  4, 11,  4],\n",
       "       [ 8,  8,  8,  0, -1,  4]])"
      ]
     },
     "execution_count": 102,
     "metadata": {},
     "output_type": "execute_result"
    }
   ],
   "source": [
    "y - 5"
   ]
  },
  {
   "cell_type": "code",
   "execution_count": 103,
   "id": "901dc127",
   "metadata": {},
   "outputs": [],
   "source": [
    "x = np.random.randint(1,10,(3,4))\n",
    "y = np.random.randint(10,20,(3,4))"
   ]
  },
  {
   "cell_type": "code",
   "execution_count": 104,
   "id": "03216bab",
   "metadata": {},
   "outputs": [
    {
     "data": {
      "text/plain": [
       "array([[2, 6, 4, 8],\n",
       "       [4, 1, 4, 6],\n",
       "       [9, 9, 6, 3]])"
      ]
     },
     "execution_count": 104,
     "metadata": {},
     "output_type": "execute_result"
    }
   ],
   "source": [
    "x"
   ]
  },
  {
   "cell_type": "code",
   "execution_count": 105,
   "id": "444a9cc6",
   "metadata": {},
   "outputs": [
    {
     "data": {
      "text/plain": [
       "array([[17, 13, 10, 17],\n",
       "       [10, 13, 13, 13],\n",
       "       [19, 10, 11, 12]])"
      ]
     },
     "execution_count": 105,
     "metadata": {},
     "output_type": "execute_result"
    }
   ],
   "source": [
    "y"
   ]
  },
  {
   "cell_type": "code",
   "execution_count": 106,
   "id": "18300ac3",
   "metadata": {},
   "outputs": [
    {
     "data": {
      "text/plain": [
       "array([[19, 19, 14, 25],\n",
       "       [14, 14, 17, 19],\n",
       "       [28, 19, 17, 15]])"
      ]
     },
     "execution_count": 106,
     "metadata": {},
     "output_type": "execute_result"
    }
   ],
   "source": [
    "x + y"
   ]
  },
  {
   "cell_type": "code",
   "execution_count": 107,
   "id": "11943847",
   "metadata": {},
   "outputs": [
    {
     "data": {
      "text/plain": [
       "array([[ 34,  78,  40, 136],\n",
       "       [ 40,  13,  52,  78],\n",
       "       [171,  90,  66,  36]])"
      ]
     },
     "execution_count": 107,
     "metadata": {},
     "output_type": "execute_result"
    }
   ],
   "source": [
    "x * y"
   ]
  },
  {
   "cell_type": "code",
   "execution_count": null,
   "id": "3bd7e02b",
   "metadata": {},
   "outputs": [],
   "source": []
  }
 ],
 "metadata": {
  "kernelspec": {
   "display_name": "Python 3 (ipykernel)",
   "language": "python",
   "name": "python3"
  },
  "language_info": {
   "codemirror_mode": {
    "name": "ipython",
    "version": 3
   },
   "file_extension": ".py",
   "mimetype": "text/x-python",
   "name": "python",
   "nbconvert_exporter": "python",
   "pygments_lexer": "ipython3",
   "version": "3.11.4"
  }
 },
 "nbformat": 4,
 "nbformat_minor": 5
}
