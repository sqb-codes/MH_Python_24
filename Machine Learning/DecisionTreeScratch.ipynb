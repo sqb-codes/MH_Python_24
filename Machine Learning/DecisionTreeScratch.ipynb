{
 "cells": [
  {
   "cell_type": "code",
   "execution_count": 1,
   "id": "46b8ffda",
   "metadata": {},
   "outputs": [],
   "source": [
    "import pandas as pd\n",
    "import numpy as np"
   ]
  },
  {
   "cell_type": "code",
   "execution_count": 2,
   "id": "c303baa8",
   "metadata": {},
   "outputs": [],
   "source": [
    "data = {\n",
    "    \"outlook\" : ['sunny','sunny','overcast','rainy','rainy','rainy','overcast','sunny','sunny','rainy','sunny','overcast','overcast','rainy'],\n",
    "    \"temp\" : ['hot','hot','hot','mild','cool','cool','cool','mild','cool','mild','mild','mild','hot','mild'],\n",
    "    'humidity' : ['high','high','high','high','normal','normal','normal','high','normal','normal','normal','high','normal','high'],\n",
    "    'windy' : ['false','true','false','false','false','true','true','false','false','false','true','true','false','true'],\n",
    "    'play' : ['no','no','yes','yes','yes','no','yes','no','yes','yes','yes','yes','yes','no']\n",
    "}"
   ]
  },
  {
   "cell_type": "code",
   "execution_count": 3,
   "id": "f0fbddd0",
   "metadata": {},
   "outputs": [],
   "source": [
    "df = pd.DataFrame(data)"
   ]
  },
  {
   "cell_type": "code",
   "execution_count": 4,
   "id": "8163923d",
   "metadata": {},
   "outputs": [
    {
     "data": {
      "text/html": [
       "<div>\n",
       "<style scoped>\n",
       "    .dataframe tbody tr th:only-of-type {\n",
       "        vertical-align: middle;\n",
       "    }\n",
       "\n",
       "    .dataframe tbody tr th {\n",
       "        vertical-align: top;\n",
       "    }\n",
       "\n",
       "    .dataframe thead th {\n",
       "        text-align: right;\n",
       "    }\n",
       "</style>\n",
       "<table border=\"1\" class=\"dataframe\">\n",
       "  <thead>\n",
       "    <tr style=\"text-align: right;\">\n",
       "      <th></th>\n",
       "      <th>outlook</th>\n",
       "      <th>temp</th>\n",
       "      <th>humidity</th>\n",
       "      <th>windy</th>\n",
       "      <th>play</th>\n",
       "    </tr>\n",
       "  </thead>\n",
       "  <tbody>\n",
       "    <tr>\n",
       "      <th>0</th>\n",
       "      <td>sunny</td>\n",
       "      <td>hot</td>\n",
       "      <td>high</td>\n",
       "      <td>false</td>\n",
       "      <td>no</td>\n",
       "    </tr>\n",
       "    <tr>\n",
       "      <th>1</th>\n",
       "      <td>sunny</td>\n",
       "      <td>hot</td>\n",
       "      <td>high</td>\n",
       "      <td>true</td>\n",
       "      <td>no</td>\n",
       "    </tr>\n",
       "    <tr>\n",
       "      <th>2</th>\n",
       "      <td>overcast</td>\n",
       "      <td>hot</td>\n",
       "      <td>high</td>\n",
       "      <td>false</td>\n",
       "      <td>yes</td>\n",
       "    </tr>\n",
       "    <tr>\n",
       "      <th>3</th>\n",
       "      <td>rainy</td>\n",
       "      <td>mild</td>\n",
       "      <td>high</td>\n",
       "      <td>false</td>\n",
       "      <td>yes</td>\n",
       "    </tr>\n",
       "    <tr>\n",
       "      <th>4</th>\n",
       "      <td>rainy</td>\n",
       "      <td>cool</td>\n",
       "      <td>normal</td>\n",
       "      <td>false</td>\n",
       "      <td>yes</td>\n",
       "    </tr>\n",
       "  </tbody>\n",
       "</table>\n",
       "</div>"
      ],
      "text/plain": [
       "    outlook  temp humidity  windy play\n",
       "0     sunny   hot     high  false   no\n",
       "1     sunny   hot     high   true   no\n",
       "2  overcast   hot     high  false  yes\n",
       "3     rainy  mild     high  false  yes\n",
       "4     rainy  cool   normal  false  yes"
      ]
     },
     "execution_count": 4,
     "metadata": {},
     "output_type": "execute_result"
    }
   ],
   "source": [
    "df.head()"
   ]
  },
  {
   "cell_type": "code",
   "execution_count": 5,
   "id": "5bd9fc39",
   "metadata": {},
   "outputs": [
    {
     "data": {
      "text/plain": [
       "yes    9\n",
       "no     5\n",
       "Name: play, dtype: int64"
      ]
     },
     "execution_count": 5,
     "metadata": {},
     "output_type": "execute_result"
    }
   ],
   "source": [
    "pd.value_counts(df['play'])"
   ]
  },
  {
   "cell_type": "code",
   "execution_count": 6,
   "id": "651db927",
   "metadata": {},
   "outputs": [],
   "source": [
    "target_values = pd.unique(df['play'])"
   ]
  },
  {
   "cell_type": "code",
   "execution_count": 7,
   "id": "2a8ea248",
   "metadata": {},
   "outputs": [
    {
     "data": {
      "text/plain": [
       "array(['no', 'yes'], dtype=object)"
      ]
     },
     "execution_count": 7,
     "metadata": {},
     "output_type": "execute_result"
    }
   ],
   "source": [
    "target_values"
   ]
  },
  {
   "cell_type": "code",
   "execution_count": 8,
   "id": "88347f8f",
   "metadata": {},
   "outputs": [],
   "source": [
    "# Step-1 : Calculate Entropy of Target\n",
    "n = df.shape[0] # - total number of rows\n",
    "entropy = 0\n",
    "for target in target_values:\n",
    "    # return count of one target at a time\n",
    "    count = df[df['play'] == target]['play'].count()\n",
    "    # -p(c)*log2(p(c))\n",
    "    entropy += (-count/n) * np.log2(count/n)"
   ]
  },
  {
   "cell_type": "code",
   "execution_count": 9,
   "id": "3c3fa031",
   "metadata": {},
   "outputs": [
    {
     "data": {
      "text/plain": [
       "0.9402859586706311"
      ]
     },
     "execution_count": 9,
     "metadata": {},
     "output_type": "execute_result"
    }
   ],
   "source": [
    "entropy"
   ]
  },
  {
   "cell_type": "code",
   "execution_count": 10,
   "id": "0f5a9a9c",
   "metadata": {},
   "outputs": [
    {
     "data": {
      "text/plain": [
       "sunny       5\n",
       "rainy       5\n",
       "overcast    4\n",
       "Name: outlook, dtype: int64"
      ]
     },
     "execution_count": 10,
     "metadata": {},
     "output_type": "execute_result"
    }
   ],
   "source": [
    "pd.value_counts(df['outlook'])"
   ]
  },
  {
   "cell_type": "code",
   "execution_count": 11,
   "id": "1be7b7e0",
   "metadata": {},
   "outputs": [
    {
     "data": {
      "text/plain": [
       "outlook   play\n",
       "overcast  yes     4\n",
       "rainy     yes     3\n",
       "          no      2\n",
       "sunny     no      3\n",
       "          yes     2\n",
       "Name: play, dtype: int64"
      ]
     },
     "execution_count": 11,
     "metadata": {},
     "output_type": "execute_result"
    }
   ],
   "source": [
    "df.groupby('outlook')['play'].value_counts()"
   ]
  },
  {
   "cell_type": "code",
   "execution_count": 12,
   "id": "d4f2974a",
   "metadata": {},
   "outputs": [
    {
     "data": {
      "text/plain": [
       "yes    3\n",
       "no     2\n",
       "Name: play, dtype: int64"
      ]
     },
     "execution_count": 12,
     "metadata": {},
     "output_type": "execute_result"
    }
   ],
   "source": [
    "df[df['outlook'] == 'rainy']['play'].value_counts()"
   ]
  },
  {
   "cell_type": "code",
   "execution_count": 13,
   "id": "abcc570f",
   "metadata": {},
   "outputs": [],
   "source": [
    "# suppose col_name = \"outlook\"\n",
    "def calc_info_gain(col_name):\n",
    "    # variables = [\"rainy\", \"sunny\", \"overcast\"]\n",
    "    variables = pd.unique(df[col_name])\n",
    "    info_gain = 0\n",
    "    \n",
    "    # var = \"rainy\"\n",
    "    for var in variables:\n",
    "        col_entropy = 0\n",
    "        # count = df[df['outlook'] == 'rainy']['play'].value_counts()\n",
    "        count = df[df[col_name] == var]['play'].value_counts()\n",
    "        total = sum(count)\n",
    "        \n",
    "        # var_count = 3\n",
    "        for var_count in count:\n",
    "            col_entropy += (-var_count/total) * np.log2(var_count/total)\n",
    "        \n",
    "        info_gain += col_entropy * (total/n)\n",
    "    return info_gain"
   ]
  },
  {
   "cell_type": "code",
   "execution_count": 14,
   "id": "f511bcfe",
   "metadata": {},
   "outputs": [
    {
     "data": {
      "text/plain": [
       "0.6935361388961918"
      ]
     },
     "execution_count": 14,
     "metadata": {},
     "output_type": "execute_result"
    }
   ],
   "source": [
    "calc_info_gain('outlook')"
   ]
  },
  {
   "cell_type": "code",
   "execution_count": 15,
   "id": "de807e94",
   "metadata": {},
   "outputs": [
    {
     "data": {
      "text/plain": [
       "0.9110633930116763"
      ]
     },
     "execution_count": 15,
     "metadata": {},
     "output_type": "execute_result"
    }
   ],
   "source": [
    "calc_info_gain('temp')"
   ]
  },
  {
   "cell_type": "code",
   "execution_count": 16,
   "id": "b7f3985c",
   "metadata": {},
   "outputs": [
    {
     "data": {
      "text/plain": [
       "0.7884504573082896"
      ]
     },
     "execution_count": 16,
     "metadata": {},
     "output_type": "execute_result"
    }
   ],
   "source": [
    "calc_info_gain('humidity')"
   ]
  },
  {
   "cell_type": "code",
   "execution_count": 17,
   "id": "3f7bda13",
   "metadata": {},
   "outputs": [
    {
     "data": {
      "text/plain": [
       "0.8921589282623617"
      ]
     },
     "execution_count": 17,
     "metadata": {},
     "output_type": "execute_result"
    }
   ],
   "source": [
    "calc_info_gain('windy')"
   ]
  },
  {
   "cell_type": "code",
   "execution_count": 18,
   "id": "cf2a034b",
   "metadata": {},
   "outputs": [],
   "source": [
    "columns = df.columns\n",
    "scores = {}\n",
    "for i in range(len(columns) - 1):\n",
    "    info_gain = calc_info_gain(columns[i])\n",
    "    gain = entropy - info_gain\n",
    "    scores[columns[i]] = gain"
   ]
  },
  {
   "cell_type": "code",
   "execution_count": 19,
   "id": "093730d5",
   "metadata": {},
   "outputs": [
    {
     "data": {
      "text/plain": [
       "{'outlook': 0.24674981977443933,\n",
       " 'temp': 0.02922256565895487,\n",
       " 'humidity': 0.15183550136234159,\n",
       " 'windy': 0.04812703040826949}"
      ]
     },
     "execution_count": 19,
     "metadata": {},
     "output_type": "execute_result"
    }
   ],
   "source": [
    "scores"
   ]
  },
  {
   "cell_type": "code",
   "execution_count": 20,
   "id": "2ac20598",
   "metadata": {},
   "outputs": [
    {
     "data": {
      "text/plain": [
       "'outlook'"
      ]
     },
     "execution_count": 20,
     "metadata": {},
     "output_type": "execute_result"
    }
   ],
   "source": [
    "max(scores, key=scores.get)"
   ]
  },
  {
   "cell_type": "code",
   "execution_count": null,
   "id": "484cf872",
   "metadata": {},
   "outputs": [],
   "source": []
  }
 ],
 "metadata": {
  "kernelspec": {
   "display_name": "Python 3 (ipykernel)",
   "language": "python",
   "name": "python3"
  },
  "language_info": {
   "codemirror_mode": {
    "name": "ipython",
    "version": 3
   },
   "file_extension": ".py",
   "mimetype": "text/x-python",
   "name": "python",
   "nbconvert_exporter": "python",
   "pygments_lexer": "ipython3",
   "version": "3.11.4"
  }
 },
 "nbformat": 4,
 "nbformat_minor": 5
}
